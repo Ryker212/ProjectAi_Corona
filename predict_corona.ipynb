{
 "cells": [
  {
   "cell_type": "code",
   "execution_count": 12,
   "id": "252dd95d-2e13-4129-8fc5-694c2d79f484",
   "metadata": {},
   "outputs": [],
   "source": [
    "import pandas as pd            # For handling data\n",
    "import joblib                 # For saving and loading the model\n",
    "from sklearn.preprocessing import LabelEncoder  # For encoding the target variable"
   ]
  },
  {
   "cell_type": "code",
   "execution_count": 13,
   "id": "455e9fca-d3aa-4eb2-9e56-1732aa2814c0",
   "metadata": {},
   "outputs": [],
   "source": [
    "# Load the model\n",
    "loaded_model = joblib.load('corona_classifier_model.pkl')\n",
    "\n",
    "# Load the label encoder\n",
    "label_encoder = joblib.load('label_encoder.pkl')  # Make sure to load the encoder saved during training"
   ]
  },
  {
   "cell_type": "code",
   "execution_count": 14,
   "id": "6adfb810-01ab-4ec9-a20b-6e612764eeca",
   "metadata": {},
   "outputs": [],
   "source": [
    "# Convert new data to integers\n",
    "features = ['Cough_symptoms', 'Fever', 'Sore_throat', 'Shortness_of_breath', 'Headache']"
   ]
  },
  {
   "cell_type": "code",
   "execution_count": 15,
   "id": "03757618-1e7c-4b98-b7cb-8f825cd2405c",
   "metadata": {},
   "outputs": [
    {
     "name": "stdout",
     "output_type": "stream",
     "text": [
      "Prediction for sample 1: positive\n",
      "Confidence scores: [0.05234173 0.00922038 0.93843789]\n",
      "Probability of classes: {'negative': 0.052341732708858675, 'other': 0.009220376834187367, 'positive': 0.9384378904569536}\n",
      "\n",
      "Prediction for sample 2: positive\n",
      "Confidence scores: [0.17328484 0.02352329 0.80319187]\n",
      "Probability of classes: {'negative': 0.17328484247448173, 'other': 0.023523285066163344, 'positive': 0.803191872459355}\n",
      "\n",
      "Prediction for sample 3: negative\n",
      "Confidence scores: [0.96349537 0.01360059 0.02290404]\n",
      "Probability of classes: {'negative': 0.9634953700086829, 'other': 0.013600585161854488, 'positive': 0.02290404482946256}\n",
      "\n"
     ]
    }
   ],
   "source": [
    "# Define example values for prediction\n",
    "# Replace these values with the example data you want to test\n",
    "example_data = {\n",
    "    'Cough_symptoms': [True, False, False],  # Example data for two samples\n",
    "    'Fever': [True, True, False],\n",
    "    'Sore_throat': [False, True, False],\n",
    "    'Shortness_of_breath': [False, False, False],\n",
    "    'Headache': [True, False, False]\n",
    "}\n",
    "\n",
    "# Convert example values to a DataFrame\n",
    "new_data = pd.DataFrame(example_data)\n",
    "\n",
    "# Make predictions using the loaded model\n",
    "predictions = loaded_model.predict(new_data)\n",
    "\n",
    "# Get confidence scores for the predictions\n",
    "confidence_scores = loaded_model.predict_proba(new_data)\n",
    "\n",
    "# Convert predictions back to original labels\n",
    "predicted_labels = label_encoder.inverse_transform(predictions)\n",
    "\n",
    "# Display predictions and their confidence scores\n",
    "for i, label in enumerate(predicted_labels):\n",
    "    print(f\"Prediction for sample {i + 1}: {label}\")\n",
    "    print(f\"Confidence scores: {confidence_scores[i]}\")\n",
    "    print(f\"Probability of classes: {dict(zip(label_encoder.classes_, confidence_scores[i]))}\")\n",
    "    print()  # For better readability"
   ]
  },
  {
   "cell_type": "code",
   "execution_count": null,
   "id": "a688642b-3b6a-43b9-87eb-8daca839222f",
   "metadata": {},
   "outputs": [],
   "source": []
  }
 ],
 "metadata": {
  "kernelspec": {
   "display_name": "Ai",
   "language": "python",
   "name": "ai"
  },
  "language_info": {
   "codemirror_mode": {
    "name": "ipython",
    "version": 3
   },
   "file_extension": ".py",
   "mimetype": "text/x-python",
   "name": "python",
   "nbconvert_exporter": "python",
   "pygments_lexer": "ipython3",
   "version": "3.12.7"
  }
 },
 "nbformat": 4,
 "nbformat_minor": 5
}
